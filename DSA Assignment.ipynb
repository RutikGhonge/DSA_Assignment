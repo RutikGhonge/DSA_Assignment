{
 "cells": [
  {
   "cell_type": "markdown",
   "id": "d8579f11",
   "metadata": {},
   "source": [
    "### Write a program to find all pairs of an integer array whose sum is equal to a given number?"
   ]
  },
  {
   "cell_type": "code",
   "execution_count": 3,
   "id": "b304c4f4",
   "metadata": {},
   "outputs": [
    {
     "name": "stdout",
     "output_type": "stream",
     "text": [
      "index1=3, index2=4\n"
     ]
    }
   ],
   "source": [
    "class py_solution:\n",
    "  def twoSum(self, nums, target):\n",
    "       lookup = {}\n",
    "       for i, num in enumerate(nums):\n",
    "           if target - num in lookup:\n",
    "               return (lookup[target - num], i )\n",
    "           lookup[num] = i\n",
    "print(\"index1=%d, index2=%d\" % py_solution().twoSum((10,20,10,40,50,60,70),50))"
   ]
  },
  {
   "cell_type": "code",
   "execution_count": null,
   "id": "9ff3cdbb",
   "metadata": {},
   "outputs": [],
   "source": []
  },
  {
   "cell_type": "markdown",
   "id": "de20ffc6",
   "metadata": {},
   "source": [
    "### Write a program to reverse an array in place? In place means you cannot create a new array. You have to update the original array.\n",
    "\n"
   ]
  },
  {
   "cell_type": "code",
   "execution_count": 5,
   "id": "fc6b4f25",
   "metadata": {},
   "outputs": [
    {
     "name": "stdout",
     "output_type": "stream",
     "text": [
      "Original array: \n",
      "1\n",
      "2\n",
      "3\n",
      "4\n",
      "5\n",
      "7\n",
      "Array in reverse order: \n",
      "7\n",
      "5\n",
      "4\n",
      "3\n",
      "2\n",
      "1\n"
     ]
    }
   ],
   "source": [
    "#Initialize array     \n",
    "arr = [1, 2, 3, 4, 5,7];     \n",
    "print(\"Original array: \");    \n",
    "for i in range(0, len(arr)):    \n",
    "    print(arr[i]),     \n",
    "print(\"Array in reverse order: \");    \n",
    "#Loop through the array in reverse order    \n",
    "for i in range(len(arr)-1, -1, -1):     \n",
    "    print(arr[i]),     "
   ]
  },
  {
   "cell_type": "code",
   "execution_count": null,
   "id": "e261e6f4",
   "metadata": {},
   "outputs": [],
   "source": []
  },
  {
   "cell_type": "markdown",
   "id": "e2b53e52",
   "metadata": {},
   "source": [
    "### Write a program to check if two strings are a rotation of each other?"
   ]
  },
  {
   "cell_type": "code",
   "execution_count": 6,
   "id": "3a3ba9b9",
   "metadata": {},
   "outputs": [
    {
     "name": "stdout",
     "output_type": "stream",
     "text": [
      "Given Strings are rotations of each other.\n"
     ]
    }
   ],
   "source": [
    "def checkRotation(s1, s2): \n",
    "    temp = '' \n",
    "  \n",
    "    # Check if lengths of two strings are equal or not \n",
    "    if len(s1) != len(s2): \n",
    "        return False\n",
    "  \n",
    "    # storing concatenated string \n",
    "    temp = s1 + s1 \n",
    "  \n",
    "    \n",
    "    if s2 in temp: \n",
    "        return True #returning true if 2nd string is present in concatenated string\n",
    "    else: \n",
    "        return False\n",
    "  \n",
    "# Driver program to test the above function \n",
    "string1 = \"HELLO\"\n",
    "string2 = \"LOHEL\"\n",
    "  \n",
    "if checkRotation(string1, string2): \n",
    "    print(\"Given Strings are rotations of each other.\")\n",
    "else: \n",
    "    print(\"Given Strings are not rotations of each other.\")"
   ]
  },
  {
   "cell_type": "code",
   "execution_count": null,
   "id": "5d1430cc",
   "metadata": {},
   "outputs": [],
   "source": []
  },
  {
   "cell_type": "markdown",
   "id": "9b4ba335",
   "metadata": {},
   "source": [
    "### Write a program to print the first non-repeated character from a string?"
   ]
  },
  {
   "cell_type": "code",
   "execution_count": 10,
   "id": "82dbad6a",
   "metadata": {},
   "outputs": [
    {
     "name": "stdout",
     "output_type": "stream",
     "text": [
      "a\n",
      "d\n",
      "None\n"
     ]
    }
   ],
   "source": [
    "def first_non_repeating_character(str1):\n",
    "  char_order = []\n",
    "  ctr = {}\n",
    "  for c in str1:\n",
    "    if c in ctr:\n",
    "      ctr[c] += 1\n",
    "    else:\n",
    "      ctr[c] = 1 \n",
    "      char_order.append(c)\n",
    "  for c in char_order:\n",
    "    if ctr[c] == 1:\n",
    "      return c\n",
    "  return None\n",
    "\n",
    "print(first_non_repeating_character('abcdef'))\n",
    "print(first_non_repeating_character('abcabcdef'))\n",
    "print(first_non_repeating_character('aabbcc'))"
   ]
  },
  {
   "cell_type": "code",
   "execution_count": null,
   "id": "72593504",
   "metadata": {},
   "outputs": [],
   "source": []
  },
  {
   "cell_type": "markdown",
   "id": "f0ffbeab",
   "metadata": {},
   "source": [
    "### Read about the Tower of Hanoi algorithm. Write a program to implement it."
   ]
  },
  {
   "cell_type": "code",
   "execution_count": 11,
   "id": "005d7323",
   "metadata": {},
   "outputs": [
    {
     "name": "stdout",
     "output_type": "stream",
     "text": [
      "Move disk 1 from rod A to rod C\n",
      "Move disk 2 from rod A to rod B\n",
      "Move disk 1 from rod C to rod B\n",
      "Move disk 3 from rod A to rod C\n",
      "Move disk 1 from rod B to rod A\n",
      "Move disk 2 from rod B to rod C\n",
      "Move disk 1 from rod A to rod C\n"
     ]
    }
   ],
   "source": [
    "def tower_of_hanoi(numbers, start, auxiliary, end):  \n",
    "    if(numbers == 1):  \n",
    "        print('Move disk 1 from rod {} to rod {}'.format(start, end))  \n",
    "        return\n",
    "    tower_of_hanoi(numbers - 1, start, end, auxiliary)  \n",
    "    print('Move disk {} from rod {} to rod {}'.format(numbers, start, end))  \n",
    "    tower_of_hanoi(numbers - 1, auxiliary, start, end)  \n",
    "  \n",
    "numbers = 3\n",
    "tower_of_hanoi(numbers, 'A', 'B', 'C')"
   ]
  },
  {
   "cell_type": "code",
   "execution_count": null,
   "id": "9bf8f7d5",
   "metadata": {},
   "outputs": [],
   "source": []
  },
  {
   "cell_type": "markdown",
   "id": "703dd616",
   "metadata": {},
   "source": [
    "### Read about infix, prefix, and postfix expressions. Write a program to convert postfix to prefix expression."
   ]
  },
  {
   "cell_type": "code",
   "execution_count": 15,
   "id": "bcb6f347",
   "metadata": {},
   "outputs": [
    {
     "name": "stdout",
     "output_type": "stream",
     "text": [
      "Prefix :  +AB-CD\n"
     ]
    }
   ],
   "source": [
    "\n",
    "def isOperator(x):\n",
    "\n",
    "\tif x == \"+\":\n",
    "\t\treturn True\n",
    "\n",
    "\tif x == \"-\":\n",
    "\t\treturn True\n",
    "\n",
    "\tif x == \"/\":\n",
    "\t\treturn True\n",
    "\n",
    "\tif x == \"*\":\n",
    "\t\treturn True\n",
    "\n",
    "\treturn False\n",
    "\n",
    "# Convert postfix to Prefix expression\n",
    "\n",
    "\n",
    "def postToPre(post_exp):\n",
    "\n",
    "\ts = []\n",
    "\n",
    "\t# length of expression\n",
    "\tlength = len(post_exp)\n",
    "\n",
    "\t# reading from right to left\n",
    "\tfor i in range(length):\n",
    "\n",
    "\t\t# check if symbol is operator\n",
    "\t\tif (isOperator(post_exp[i])):\n",
    "\n",
    "\t\t\t# pop two operands from stack\n",
    "\t\t\top1 = s[-1]\n",
    "\t\t\ts.pop()\n",
    "\t\t\top2 = s[-1]\n",
    "\t\t\ts.pop()\n",
    "\n",
    "\t\t\t# concat the operands and operator\n",
    "\t\t\ttemp = post_exp[i] + op2 + op1\n",
    "\n",
    "\t\t\t# Push string temp back to stack\n",
    "\t\t\ts.append(temp)\n",
    "\n",
    "\t\t# if symbol is an operand\n",
    "\t\telse:\n",
    "\n",
    "\t\t\t# push the operand to the stack\n",
    "\t\t\ts.append(post_exp[i])\n",
    "\n",
    "\t\n",
    "\tans = \"\"\n",
    "\tfor i in s:\n",
    "\t\tans += i\n",
    "\treturn ans\n",
    "\n",
    "\n",
    "# Driver Code\n",
    "if __name__ == \"__main__\":\n",
    "\n",
    "\tpost_exp = \"AB+CD-\"\n",
    "\t\n",
    "\t# Function call\n",
    "\tprint(\"Prefix : \", postToPre(post_exp))\n",
    "\n",
    "# This code is contributed by AnkitRai01\n"
   ]
  },
  {
   "cell_type": "code",
   "execution_count": null,
   "id": "1e166697",
   "metadata": {},
   "outputs": [],
   "source": []
  },
  {
   "cell_type": "markdown",
   "id": "7adf6bf1",
   "metadata": {},
   "source": [
    "### Write a program to convert prefix expression to infix expression.\n",
    "\n"
   ]
  },
  {
   "cell_type": "code",
   "execution_count": 16,
   "id": "b93c1ccb",
   "metadata": {},
   "outputs": [],
   "source": [
    "def prefix_to_infix(expr):\n",
    "    if type(expr) != type([]):\n",
    "        # The expression is a number or variable.\n",
    "        return str(expr)\n",
    "    elif len(expr) == 2:\n",
    "        # This is an operator expression with 1 argument.\n",
    "        return str(expr[1])\n",
    "    else:\n",
    "        # This is an operator expression with 2 or more arguments.\n",
    "        operator = expr[0]\n",
    "        left_arg = prefix_to_infix([operator] + expr[1:-1])\n",
    "        right_arg = prefix_to_infix(expr[-1])\n",
    "        return \"({0}{1}{2})\".format(left_arg, operator, right_arg)\n",
    "\n",
    "# prefix_to_infix(['+',1,2,3,4,5]) = '((((1+2)+3)+4)+5)'\n",
    "# prefix_to_infix(['+',1,2,['*',3,4,5],6,7,8]) = '(((((1+2)+(3*4*5))+6)+7)+8)'"
   ]
  },
  {
   "cell_type": "code",
   "execution_count": null,
   "id": "34c58500",
   "metadata": {},
   "outputs": [],
   "source": []
  },
  {
   "cell_type": "markdown",
   "id": "756f254a",
   "metadata": {},
   "source": [
    "### Write a program to check if all the brackets are closed in a given code snippet."
   ]
  },
  {
   "cell_type": "code",
   "execution_count": 19,
   "id": "23823db6",
   "metadata": {},
   "outputs": [
    {
     "name": "stdout",
     "output_type": "stream",
     "text": [
      "Balanced\n"
     ]
    }
   ],
   "source": [
    "openList = [\"[\", \"{\", \"(\"]\n",
    "closeList = [\"]\", \"}\", \")\"]\n",
    "\n",
    "\n",
    "def balance(myStr):\n",
    "    stack = []\n",
    "    for i in myStr:\n",
    "        if i in openList:\n",
    "            stack.append(i)\n",
    "        elif i in closeList:\n",
    "            pos = closeList.index(i)\n",
    "            if (len(stack) > 0) and (openList[pos] == stack[len(stack) - 1]):\n",
    "                stack.pop()\n",
    "            else:\n",
    "                return \"Unbalanced\"\n",
    "    if len(stack) == 0:\n",
    "        return \"Balanced\"\n",
    "\n",
    "\n",
    "print(balance(\"{[()](){}}\"))"
   ]
  },
  {
   "cell_type": "code",
   "execution_count": null,
   "id": "ad1a0676",
   "metadata": {},
   "outputs": [],
   "source": []
  },
  {
   "cell_type": "markdown",
   "id": "6032cf14",
   "metadata": {},
   "source": [
    "### Write a program to reverse a stack."
   ]
  },
  {
   "cell_type": "code",
   "execution_count": 21,
   "id": "413a640f",
   "metadata": {},
   "outputs": [
    {
     "name": "stdout",
     "output_type": "stream",
     "text": [
      "Enter the elements to add to the stack: 234\n",
      "The reversed stack is:\n",
      "234\n",
      "The stack is:\n",
      "234\n"
     ]
    }
   ],
   "source": [
    "class Stack_structure:\n",
    "   def __init__(self):\n",
    "      self.items = []\n",
    "\n",
    "   def check_empty(self):\n",
    "      return self.items == []\n",
    "\n",
    "   def push_val(self, data):\n",
    "      self.items.append(data)\n",
    "\n",
    "   def pop_val(self):\n",
    "      return self.items.pop()\n",
    "\n",
    "   def print_it(self):\n",
    "      for data in reversed(self.items):\n",
    "         print(data)\n",
    "\n",
    "def insert_bottom(instance, data):\n",
    "   if instance.check_empty():\n",
    "      instance.push_val(data)\n",
    "   else:\n",
    "      deleted_elem = instance.pop_val()\n",
    "      insert_bottom(instance, data)\n",
    "      instance.push_val(deleted_elem)\n",
    "\n",
    "def stack_reverse(instance):\n",
    "   if not instance.check_empty():\n",
    "      deleted_elem = instance.pop_val()\n",
    "      stack_reverse(instance)\n",
    "      insert_bottom(instance, deleted_elem)\n",
    "\n",
    "my_instance = Stack_structure()\n",
    "data_list = input('Enter the elements to add to the stack: ').split()\n",
    "for data in data_list:\n",
    "   my_instance.push_val(int(data))\n",
    "\n",
    "print('The reversed stack is:')\n",
    "my_instance.print_it()\n",
    "stack_reverse(my_instance)\n",
    "print('The stack is:')\n",
    "my_instance.print_it()"
   ]
  },
  {
   "cell_type": "code",
   "execution_count": null,
   "id": "32e47789",
   "metadata": {},
   "outputs": [],
   "source": []
  },
  {
   "cell_type": "markdown",
   "id": "df0188b5",
   "metadata": {},
   "source": [
    "### Write a program to find the smallest number using a stack.\n",
    "\n"
   ]
  },
  {
   "cell_type": "code",
   "execution_count": 22,
   "id": "1edf622b",
   "metadata": {},
   "outputs": [
    {
     "name": "stdout",
     "output_type": "stream",
     "text": [
      "-3\n",
      "0\n",
      "-2\n"
     ]
    }
   ],
   "source": [
    "class MinStack(object):\n",
    "   min=float('inf')\n",
    "   def __init__(self):\n",
    "      self.min=float('inf')\n",
    "      self.stack = []\n",
    "   def push(self, x):\n",
    "      if x<=self.min:\n",
    "         self.stack.append(self.min)\n",
    "         self.min = x\n",
    "      self.stack.append(x)\n",
    "   def pop(self):\n",
    "      t = self.stack[-1]\n",
    "      self.stack.pop()\n",
    "      if self.min == t:\n",
    "         self.min = self.stack[-1]\n",
    "         self.stack.pop()\n",
    "   def top(self):\n",
    "      return self.stack[-1]\n",
    "   def getMin(self):\n",
    "      return self.min\n",
    "m = MinStack()\n",
    "m.push(-2)\n",
    "m.push(0)\n",
    "m.push(-3)\n",
    "print(m.getMin())\n",
    "m.pop()\n",
    "print(m.top())\n",
    "print(m.getMin())"
   ]
  },
  {
   "cell_type": "code",
   "execution_count": null,
   "id": "2f23d417",
   "metadata": {},
   "outputs": [],
   "source": []
  }
 ],
 "metadata": {
  "kernelspec": {
   "display_name": "Python 3 (ipykernel)",
   "language": "python",
   "name": "python3"
  },
  "language_info": {
   "codemirror_mode": {
    "name": "ipython",
    "version": 3
   },
   "file_extension": ".py",
   "mimetype": "text/x-python",
   "name": "python",
   "nbconvert_exporter": "python",
   "pygments_lexer": "ipython3",
   "version": "3.10.0"
  }
 },
 "nbformat": 4,
 "nbformat_minor": 5
}
